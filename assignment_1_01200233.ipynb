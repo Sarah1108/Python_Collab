{
 "cells": [
  {
   "cell_type": "markdown",
   "metadata": {},
   "source": [
    "## First Assignment"
   ]
  },
  {
   "cell_type": "markdown",
   "metadata": {},
   "source": [
    "#### 1) Apply the appropriate string methods to the **x** variable (as '.upper') to change it exactly to: \"$Dichlorodiphenyltrichloroethane$\"."
   ]
  },
  {
   "cell_type": "code",
   "execution_count": 4,
   "metadata": {},
   "outputs": [],
   "source": [
    "x = \"DiClOrod  IFeNi  lTRicLOr oETaNo  DiChlorod iPHeny lTrichL oroEThaNe\""
   ]
  },
  {
   "cell_type": "code",
   "execution_count": 1,
   "metadata": {},
   "outputs": [
    {
     "name": "stdout",
     "output_type": "stream",
     "text": [
      "Dichlorodiphenyltrichloroethane\n"
     ]
    }
   ],
   "source": [
    "x = \"DiClOrod  IFeNi  lTRicLOr oETaNo  DiChlorod iPHeny lTrichL oroEThaNe\"\n",
    "x = x.lower()\n",
    "x = x.replace('  ','')\n",
    "x = x.replace(' ','')\n",
    "x = x[27:]\n",
    "x = x[0].upper()+x[1:]\n",
    "\n",
    "print(x)"
   ]
  },
  {
   "cell_type": "markdown",
   "metadata": {},
   "source": [
    "#### 2) Assign respectively the values: 'word', 15, 3.14 and 'list' to variables A, B, C and D in a single line of code. Then, print them in that same order on a single line separated by a space, using only one print statement."
   ]
  },
  {
   "cell_type": "code",
   "execution_count": 2,
   "metadata": {},
   "outputs": [
    {
     "name": "stdout",
     "output_type": "stream",
     "text": [
      "{'A': 'word', 'B': '15', 'C': '3.14', 'D': 'list'}\n"
     ]
    }
   ],
   "source": [
    "dic= {'A':'word', 'B':'15', 'C':'3.14','D': 'list'}\n",
    "print(dic)"
   ]
  },
  {
   "cell_type": "markdown",
   "metadata": {},
   "source": [
    "#### 3) Use the **input()** function to receive an input in the form **'68.4 1.71'**, that is, two floating point numbers in a line separated by space. Then, assign these numbers to the variables ** p ** and ** h ** respectively, which represent an individual's weight and height (hint: take a look at the '.split ()' method). With this data, calculate the individual's Body Mass Index (BMI) from the following relationship: \n",
    "    \n",
    "\\begin{equation}\n",
    "BMI = \\dfrac{weight}{height^2}\n",
    "\\end{equation}"
   ]
  },
  {
   "cell_type": "code",
   "execution_count": 3,
   "metadata": {},
   "outputs": [
    {
     "name": "stdout",
     "output_type": "stream",
     "text": [
      "What is your weight? 55\n",
      "How tall are you? 159\n",
      "Your body mass index (BMI) is 21.75546853368142\n"
     ]
    }
   ],
   "source": [
    "def bmi(weight=0, height=0):\n",
    "    if weight == 0:\n",
    "        weight = input('What is your weight? ')\n",
    "    if not str(weight).isdigit():\n",
    "        print('Invalid input')\n",
    "        bmi()\n",
    "        return\n",
    "    if height == 0:\n",
    "        height = input('How tall are you? ')\n",
    "    if not str(height).isdigit():\n",
    "        print('Invalid input')\n",
    "        bmi(weight=weight)\n",
    "        return\n",
    "    BMI = float(weight)/((float(height)/100)**2)\n",
    "    print('Your body mass index (BMI) is {}'.format(BMI))\n",
    "bmi(weight=0,height=0)"
   ]
  },
  {
   "cell_type": "markdown",
   "metadata": {},
   "source": [
    "#### This value can also be classified according to ranges of values, following to the table below. Use conditional structures to classify and print the classification assigned to the individual. \n",
    "\n",
    "<center><img src=\"https://healthtravelguide.com/wp-content/uploads/2020/06/Body-mass-index-table.png\" width=\"30%\"><\\center>  \n",
    "\n",
    "\n",
    "(source: https://healthtravelguide.com/bmi-calculator/)"
   ]
  },
  {
   "cell_type": "code",
   "execution_count": 6,
   "metadata": {},
   "outputs": [
    {
     "name": "stdout",
     "output_type": "stream",
     "text": [
      "Enter your BMI:21\n",
      "You are in normal Weight class\n"
     ]
    }
   ],
   "source": [
    "BMI = int(input('Enter your BMI:'))\n",
    "if BMI > 40:\n",
    "    print(\"You are in Obesity class III\")\n",
    "elif 40 > BMI > 35:\n",
    "    print (\"You are in Obesity class II\")\n",
    "elif 35 > BMI > 30:\n",
    "    print (\"You are in Obesity class I\")\n",
    "elif 30 > BMI > 25:\n",
    "    print (\"You are in Pre-obesity class\")\n",
    "elif 25 > BMI > 18: \n",
    "    print (\"You are in normal Weight class\")\n",
    "elif 18 > BMI:\n",
    "    print (\"You are underweight\")\n",
    "else: \n",
    "    print (\"You have no weight\")\n",
    "    "
   ]
  },
  {
   "cell_type": "markdown",
   "metadata": {},
   "source": [
    "#### 4) Receive an integer as an input and, using a loop, calculate the factorial of this number, that is, the product of all the integers from one to the number provided. "
   ]
  },
  {
   "cell_type": "code",
   "execution_count": 7,
   "metadata": {},
   "outputs": [
    {
     "name": "stdout",
     "output_type": "stream",
     "text": [
      "Enter a number: 4\n",
      "The factorial of 4 is 24\n"
     ]
    }
   ],
   "source": [
    "num = int(input(\"Enter a number: \"))\n",
    " \n",
    "factorial = 1\n",
    " \n",
    "for i in range(1, num + 1):\n",
    "    factorial = factorial * i\n",
    "\n",
    "print(\"The factorial of\", num, \"is\", factorial)"
   ]
  },
  {
   "cell_type": "markdown",
   "metadata": {},
   "source": [
    "#### 5) Using a while loop and the input function, read an indefinite number of integers until the number read is -1. Present the sum of all these numbers in the form of a print, excluding the -1 read at the end. "
   ]
  },
  {
   "cell_type": "code",
   "execution_count": 8,
   "metadata": {},
   "outputs": [
    {
     "name": "stdout",
     "output_type": "stream",
     "text": [
      "Enter a number: 7\n",
      "[7, 6, 5, 4, 3, 2, 1, 0]\n",
      "28\n"
     ]
    }
   ],
   "source": [
    "num = int(input(\"Enter a number: \"))\n",
    "list= []\n",
    "count= 0\n",
    "while num > -1:\n",
    "    list.append(num)\n",
    "    count = count+num\n",
    "    num= num-1\n",
    "else:\n",
    "    print(list)\n",
    "    print(count)"
   ]
  },
  {
   "cell_type": "markdown",
   "metadata": {},
   "source": [
    "#### 6) Read the **name** of an employee, his **number of hours worked** and the **sallary per hour** in a single line separated by space. Next, calculate the **total salary** for this employee and show it to two decimal places. "
   ]
  },
  {
   "cell_type": "code",
   "execution_count": 9,
   "metadata": {},
   "outputs": [
    {
     "name": "stdout",
     "output_type": "stream",
     "text": [
      "Enter name, working hours a week and sallary per hourcat,10,12\n",
      "cat\n",
      "The total sallary for cat is 120\n"
     ]
    }
   ],
   "source": [
    "name,hours,sallary = input('Enter name, working hours a week and sallary per hour').split(',')\n",
    "print(name)\n",
    "hours = int(hours)\n",
    "sallary = int(sallary)\n",
    "print(\"The total sallary for\", name, \"is\", hours*sallary)"
   ]
  },
  {
   "cell_type": "markdown",
   "metadata": {},
   "source": [
    "#### 7) Read three floating point values **A**, **B** and **C** respectively. Then calculate and show: "
   ]
  },
  {
   "cell_type": "code",
   "execution_count": 10,
   "metadata": {},
   "outputs": [
    {
     "name": "stdout",
     "output_type": "stream",
     "text": [
      "Enter three points2,6,8\n",
      "2.0 6.0 8.0\n"
     ]
    }
   ],
   "source": [
    "A,B,C = input(\"Enter three points\").split(',')\n",
    "A = float(A)\n",
    "B = float(B)\n",
    "C = float(C)\n",
    "print (A, B, C)"
   ]
  },
  {
   "cell_type": "markdown",
   "metadata": {},
   "source": [
    "    a) the area of the triangle rectangle with A as the base and C as the height."
   ]
  },
  {
   "cell_type": "code",
   "execution_count": 11,
   "metadata": {},
   "outputs": [
    {
     "name": "stdout",
     "output_type": "stream",
     "text": [
      "the area of the triangle is 8.0\n"
     ]
    }
   ],
   "source": [
    "area = A*C/2\n",
    "\n",
    "print('the area of the triangle is', area)"
   ]
  },
  {
   "cell_type": "markdown",
   "metadata": {},
   "source": [
    "    b) the area of the circle of radius C. (pi = 3.14159) "
   ]
  },
  {
   "cell_type": "code",
   "execution_count": 12,
   "metadata": {},
   "outputs": [
    {
     "name": "stdout",
     "output_type": "stream",
     "text": [
      "the area of the circle is 50.26544\n"
     ]
    }
   ],
   "source": [
    "circle= 2*C*3.14159\n",
    "\n",
    "print('the area of the circle is', circle)"
   ]
  },
  {
   "cell_type": "markdown",
   "metadata": {},
   "source": [
    "    c) the area of the trapezoid that has A and B for bases and C for height. "
   ]
  },
  {
   "cell_type": "code",
   "execution_count": 13,
   "metadata": {},
   "outputs": [
    {
     "name": "stdout",
     "output_type": "stream",
     "text": [
      "the area of the trapez is 32.0\n"
     ]
    }
   ],
   "source": [
    "trapez= 0.5*(A+B)*C\n",
    "\n",
    "print('the area of the trapez is', trapez)"
   ]
  },
  {
   "cell_type": "markdown",
   "metadata": {},
   "source": [
    "    d) the area of the square that has side B. "
   ]
  },
  {
   "cell_type": "code",
   "execution_count": 14,
   "metadata": {},
   "outputs": [
    {
     "name": "stdout",
     "output_type": "stream",
     "text": [
      "the area of the square is 36.0\n"
     ]
    }
   ],
   "source": [
    "square = B*B\n",
    "\n",
    "print('the area of the square is', square)"
   ]
  },
  {
   "cell_type": "markdown",
   "metadata": {},
   "source": [
    "    e) the area of the rectangle that has sides A and B. "
   ]
  },
  {
   "cell_type": "code",
   "execution_count": 15,
   "metadata": {},
   "outputs": [
    {
     "name": "stdout",
     "output_type": "stream",
     "text": [
      "the area of the rectangle is 12.0\n"
     ]
    }
   ],
   "source": [
    "recta= A*B\n",
    "\n",
    "print('the area of the rectangle is', recta)"
   ]
  },
  {
   "cell_type": "markdown",
   "metadata": {},
   "source": [
    "#### 8) Read **3 floating point values** and calculate the **roots of the second degree equation** formed by these coefficients (using [this formula](https://en.wikipedia.org/wiki/Quadratic_equation)). If it is not possible to calculate the roots, display the message **“There are no real roots”**. "
   ]
  },
  {
   "cell_type": "code",
   "execution_count": 16,
   "metadata": {},
   "outputs": [
    {
     "name": "stdout",
     "output_type": "stream",
     "text": [
      "Enter three numbers3,7,5\n",
      "The solution are (-1.1666666666666667-0.5527707983925666j) and (-1.1666666666666667+0.5527707983925666j)\n"
     ]
    }
   ],
   "source": [
    "import cmath\n",
    "x,y,z = input(\"Enter three numbers\").split(',')\n",
    "x = float(x)\n",
    "y = float(y)\n",
    "z = float(z)\n",
    "\n",
    "# calculate the discriminant\n",
    "d = (y**2) - (4*x*z)\n",
    "\n",
    "# find two solutions\n",
    "try: \n",
    "    sol1 = (-y-cmath.sqrt(d))/(2*x)\n",
    "    sol2 = (-y+cmath.sqrt(d))/(2*x)\n",
    "except ValueError:\n",
    "    print(\"there are no real roots\")\n",
    "\n",
    "print('The solution are {0} and {1}'.format(sol1,sol2))"
   ]
  },
  {
   "cell_type": "markdown",
   "metadata": {},
   "source": [
    "#### 9) Read four floating point numerical values corresponding to the coordinates of two geographical coordinates in the cartesian plane. Each point will come in a line with its coordinates separated by space. Then calculate and show the distance between these two points. \n",
    "\n",
    "(obs: $d=\\sqrt{(x_1-x_2)^2 + (y_1-y_2)^2}$)"
   ]
  },
  {
   "cell_type": "code",
   "execution_count": 17,
   "metadata": {},
   "outputs": [
    {
     "name": "stdout",
     "output_type": "stream",
     "text": [
      "enter first coordinates77 130\n",
      "enter second coordinate67 90\n",
      "the distance between these points is (41.23105625617661+0j)\n"
     ]
    }
   ],
   "source": [
    "import cmath\n",
    "p1x, p1y= input('enter first coordinates').split(' ')\n",
    "p2x, p2y = input('enter second coordinate').split(' ')\n",
    "p1x= float(p1x)\n",
    "p1y= float(p1y)\n",
    "p2x= float(p2x)\n",
    "p2y= float(p2y)\n",
    "\n",
    "pxy= (p1x-p2x)**2 + (p1y-p2y)**2\n",
    "\n",
    "d = cmath.sqrt(pxy)\n",
    "\n",
    "print(\"the distance between these points is\", d)"
   ]
  },
  {
   "cell_type": "markdown",
   "metadata": {},
   "source": [
    "#### 10) Read ** two floating point numbers ** on a line that represent **coordinates of a cartesian point**. With this, use **conditional structures** to determine if you are at the origin, printing the message **'origin'**, in one of the axes, printing **'x axis'** or **'y axis'**; or in one of the four quadrants, printing **'q1'**, **'q2**', **'q3'** or **'q4'**. "
   ]
  },
  {
   "cell_type": "code",
   "execution_count": 23,
   "metadata": {},
   "outputs": [
    {
     "name": "stdout",
     "output_type": "stream",
     "text": [
      "enter your point2,2\n",
      "q1\n"
     ]
    }
   ],
   "source": [
    "x,y = input(\"enter your point\").split(',')\n",
    "x = float(x)\n",
    "y = float(y)\n",
    " \n",
    "if (x > 0 and y > 0): \n",
    "    print (\"q1\") \n",
    "  \n",
    "elif (x < 0 and y > 0): \n",
    "    print (\"q2\") \n",
    "          \n",
    "elif (x < 0 and y < 0): \n",
    "    print (\"q3\") \n",
    "      \n",
    "elif (x > 0 and y < 0): \n",
    "    print (\"q4\") \n",
    "          \n",
    "elif (x == 0): \n",
    "    print (\"y axis\") \n",
    "      \n",
    "elif (y == 0): \n",
    "    print (\"x axis\") \n",
    "      \n",
    "else: \n",
    "        print (\"origin\") \n",
    "        "
   ]
  },
  {
   "cell_type": "markdown",
   "metadata": {},
   "source": [
    "#### 11) Read an integer that represents a phone code for international dialing.  \n",
    "#### Then, inform to which country the code belongs to, considering the generated table below:\n",
    "(You just need to consider the first 10 entries)  "
   ]
  },
  {
   "cell_type": "code",
   "execution_count": 9,
   "metadata": {},
   "outputs": [
    {
     "data": {
      "text/html": [
       "<div>\n",
       "<style scoped>\n",
       "    .dataframe tbody tr th:only-of-type {\n",
       "        vertical-align: middle;\n",
       "    }\n",
       "\n",
       "    .dataframe tbody tr th {\n",
       "        vertical-align: top;\n",
       "    }\n",
       "\n",
       "    .dataframe thead th {\n",
       "        text-align: right;\n",
       "    }\n",
       "</style>\n",
       "<table border=\"1\" class=\"dataframe\">\n",
       "  <thead>\n",
       "    <tr style=\"text-align: right;\">\n",
       "      <th></th>\n",
       "      <th>Country</th>\n",
       "      <th>Country calling code</th>\n",
       "    </tr>\n",
       "  </thead>\n",
       "  <tbody>\n",
       "    <tr>\n",
       "      <th>0</th>\n",
       "      <td>Austria</td>\n",
       "      <td>43</td>\n",
       "    </tr>\n",
       "    <tr>\n",
       "      <th>1</th>\n",
       "      <td>Belgium</td>\n",
       "      <td>32</td>\n",
       "    </tr>\n",
       "    <tr>\n",
       "      <th>2</th>\n",
       "      <td>Bulgaria</td>\n",
       "      <td>359</td>\n",
       "    </tr>\n",
       "    <tr>\n",
       "      <th>3</th>\n",
       "      <td>Croatia</td>\n",
       "      <td>385</td>\n",
       "    </tr>\n",
       "    <tr>\n",
       "      <th>4</th>\n",
       "      <td>Cyprus</td>\n",
       "      <td>357</td>\n",
       "    </tr>\n",
       "    <tr>\n",
       "      <th>5</th>\n",
       "      <td>Czech Republic</td>\n",
       "      <td>420</td>\n",
       "    </tr>\n",
       "    <tr>\n",
       "      <th>6</th>\n",
       "      <td>Denmark</td>\n",
       "      <td>45</td>\n",
       "    </tr>\n",
       "    <tr>\n",
       "      <th>7</th>\n",
       "      <td>Estonia</td>\n",
       "      <td>372</td>\n",
       "    </tr>\n",
       "    <tr>\n",
       "      <th>8</th>\n",
       "      <td>Finland</td>\n",
       "      <td>358</td>\n",
       "    </tr>\n",
       "    <tr>\n",
       "      <th>9</th>\n",
       "      <td>France</td>\n",
       "      <td>33</td>\n",
       "    </tr>\n",
       "    <tr>\n",
       "      <th>10</th>\n",
       "      <td>Germany</td>\n",
       "      <td>49</td>\n",
       "    </tr>\n",
       "    <tr>\n",
       "      <th>11</th>\n",
       "      <td>Greece</td>\n",
       "      <td>30</td>\n",
       "    </tr>\n",
       "    <tr>\n",
       "      <th>12</th>\n",
       "      <td>Hungary</td>\n",
       "      <td>36</td>\n",
       "    </tr>\n",
       "    <tr>\n",
       "      <th>13</th>\n",
       "      <td>Iceland</td>\n",
       "      <td>354</td>\n",
       "    </tr>\n",
       "    <tr>\n",
       "      <th>14</th>\n",
       "      <td>Ireland</td>\n",
       "      <td>353</td>\n",
       "    </tr>\n",
       "    <tr>\n",
       "      <th>15</th>\n",
       "      <td>Italy</td>\n",
       "      <td>39</td>\n",
       "    </tr>\n",
       "    <tr>\n",
       "      <th>16</th>\n",
       "      <td>Latvia</td>\n",
       "      <td>371</td>\n",
       "    </tr>\n",
       "    <tr>\n",
       "      <th>17</th>\n",
       "      <td>Liechtenstein</td>\n",
       "      <td>423</td>\n",
       "    </tr>\n",
       "    <tr>\n",
       "      <th>18</th>\n",
       "      <td>Lithuania</td>\n",
       "      <td>370</td>\n",
       "    </tr>\n",
       "    <tr>\n",
       "      <th>19</th>\n",
       "      <td>Luxembourg</td>\n",
       "      <td>352</td>\n",
       "    </tr>\n",
       "  </tbody>\n",
       "</table>\n",
       "</div>"
      ],
      "text/plain": [
       "           Country Country calling code\n",
       "0          Austria                   43\n",
       "1          Belgium                   32\n",
       "2         Bulgaria                  359\n",
       "3          Croatia                  385\n",
       "4           Cyprus                  357\n",
       "5   Czech Republic                  420\n",
       "6          Denmark                   45\n",
       "7          Estonia                  372\n",
       "8          Finland                  358\n",
       "9           France                   33\n",
       "10         Germany                   49\n",
       "11          Greece                   30\n",
       "12         Hungary                   36\n",
       "13         Iceland                  354\n",
       "14         Ireland                  353\n",
       "15           Italy                   39\n",
       "16          Latvia                  371\n",
       "17   Liechtenstein                  423\n",
       "18       Lithuania                  370\n",
       "19      Luxembourg                  352"
      ]
     },
     "execution_count": 9,
     "metadata": {},
     "output_type": "execute_result"
    }
   ],
   "source": [
    "import pandas as pd\n",
    "df = pd.read_html('https://en.wikipedia.org/wiki/Telephone_numbers_in_Europe')[1]\n",
    "df = df.iloc[:,:2]\n",
    "df.head(20)"
   ]
  },
  {
   "cell_type": "code",
   "execution_count": 26,
   "metadata": {},
   "outputs": [
    {
     "name": "stdout",
     "output_type": "stream",
     "text": [
      "Enter a phone code: 43\n",
      "('Austria', 43)\n"
     ]
    }
   ],
   "source": [
    "pho = int(input(\"Enter a phone code: \"))\n",
    "countrydic = {'Austria':43, 'Belgium':32,'Bulgaria':359, 'Croatia':385, 'Cyprus':357, 'Czech Republic':420, 'Denmark':45, 'Estonia':372, 'Finland':358, 'France':33}\n",
    "\n",
    "for value in countrydic.items():\n",
    "    if pho in value:\n",
    "        print(value)"
   ]
  },
  {
   "cell_type": "markdown",
   "metadata": {},
   "source": [
    "#### 12) Write a piece of code that reads 6 values in a row. Next, show the number of positive values entered. On the next line, print the average of the values to one decimal place. "
   ]
  },
  {
   "cell_type": "code",
   "execution_count": 27,
   "metadata": {},
   "outputs": [
    {
     "name": "stdout",
     "output_type": "stream",
     "text": [
      "Enter the list items : 2,5,4,6,8,9\n",
      "Positive numbers in the list:  6\n",
      "Average if the numers 5.666666666666667\n"
     ]
    }
   ],
   "source": [
    "# list of numbers \n",
    "list1 = [int(item) for item in input(\"Enter the list items : \").split(',')]\n",
    "\n",
    "pos_count, neg_count = 0, 0\n",
    "  \n",
    "# iterating each number in list \n",
    "for num in list1: \n",
    "      \n",
    "    # checking condition \n",
    "    if num >= 0: \n",
    "        pos_count += 1\n",
    "          \n",
    "print(\"Positive numbers in the list: \", pos_count) \n",
    "print(\"Average if the numers\", sum(list1)/6 ) "
   ]
  },
  {
   "cell_type": "markdown",
   "metadata": {},
   "source": [
    "#### 13) Read an integer **N**. Then print the **square of each of the even values**, from 1 to N, including N, if applicable, arranged one per line. "
   ]
  },
  {
   "cell_type": "code",
   "execution_count": 30,
   "metadata": {},
   "outputs": [
    {
     "name": "stdout",
     "output_type": "stream",
     "text": [
      "enter a number: 6\n",
      "4\n",
      "16\n"
     ]
    }
   ],
   "source": [
    "N = int(input('enter a number: '))\n",
    "num = 1\n",
    "while num < N: \n",
    "    if num%2==0:\n",
    "        root = num**2\n",
    "        num = num + 2 \n",
    "        print(root)\n",
    "    else:\n",
    "        num = num +1 \n",
    "    \n"
   ]
  },
  {
   "cell_type": "markdown",
   "metadata": {},
   "source": [
    "#### 14) Using **input()**, read an integer and print its classification as **'even / odd'** and **'positive / negative'** . The two classes for the number must be printed on the same line separated by a space. In the case of zero, print only **'null'**. "
   ]
  },
  {
   "cell_type": "code",
   "execution_count": 34,
   "metadata": {},
   "outputs": [
    {
     "ename": "SyntaxError",
     "evalue": "invalid syntax (<ipython-input-34-27517caf9d58>, line 7)",
     "output_type": "error",
     "traceback": [
      "\u001b[1;36m  File \u001b[1;32m\"<ipython-input-34-27517caf9d58>\"\u001b[1;36m, line \u001b[1;32m7\u001b[0m\n\u001b[1;33m    elif (num%2==0 and num < 0):\u001b[0m\n\u001b[1;37m    ^\u001b[0m\n\u001b[1;31mSyntaxError\u001b[0m\u001b[1;31m:\u001b[0m invalid syntax\n"
     ]
    }
   ],
   "source": [
    "num = int(input('Enter a number: '))\n",
    "\n",
    "if (num%2!=0 and num > 0):\n",
    "    print('odd positive')    \n",
    "elif (num%2==0 and num > 0):\n",
    "    print('even positive)'\n",
    "elif (num%2==0 and num < 0):\n",
    "    print('even negative')\n",
    "elif (num%2 != 0 and num < 0):\n",
    "    print('odd negative')\n",
    "elif num == 0\n",
    "    print('null')"
   ]
  },
  {
   "cell_type": "markdown",
   "metadata": {},
   "source": [
    "## Challenge\n",
    "#### 15) Ordering problems are recurrent in the history of programming. Over time, several algorithms have been developed to fulfill this function. The simplest of these algorithms is the [**Bubble Sort**](https://en.wikipedia.org/wiki/Bubble_sort), which is based on comparisons of elements two by two in a loop of passes through the elements. Your mission, if you decide to accept it, will be to input six whole numbers ramdonly ordered. Then implement the **Bubble Sort** principle to order these six numbers **using only loop and conditional structure**. At the end, print the six numbers in ascending order on a single line separated by space. "
   ]
  },
  {
   "cell_type": "code",
   "execution_count": 37,
   "metadata": {},
   "outputs": [
    {
     "ename": "SyntaxError",
     "evalue": "invalid syntax (<ipython-input-37-1aa77f93cd9f>, line 5)",
     "output_type": "error",
     "traceback": [
      "\u001b[1;36m  File \u001b[1;32m\"<ipython-input-37-1aa77f93cd9f>\"\u001b[1;36m, line \u001b[1;32m5\u001b[0m\n\u001b[1;33m    for j in range(0, 6-i-1):\u001b[0m\n\u001b[1;37m                            ^\u001b[0m\n\u001b[1;31mSyntaxError\u001b[0m\u001b[1;31m:\u001b[0m invalid syntax\n"
     ]
    }
   ],
   "source": [
    "ist = []   \n",
    "    \n",
    "for i in range(6,1):    \n",
    "        list = list.append(int(input('Enter a random number: '))  \n",
    "    for j in range(0, 6-i-1): \n",
    "        if arr[j] > arr[j+1] : \n",
    "        arr[j], arr[j+1] = arr[j+1], arr[j] \n",
    "\n",
    "        print (\"Sorted array is:\") \n",
    "        print (\"%d\" %arr[i])\n",
    "                           "
   ]
  },
  {
   "cell_type": "code",
   "execution_count": null,
   "metadata": {},
   "outputs": [],
   "source": []
  }
 ],
 "metadata": {
  "kernelspec": {
   "display_name": "Python 3",
   "language": "python",
   "name": "python3"
  },
  "language_info": {
   "codemirror_mode": {
    "name": "ipython",
    "version": 3
   },
   "file_extension": ".py",
   "mimetype": "text/x-python",
   "name": "python",
   "nbconvert_exporter": "python",
   "pygments_lexer": "ipython3",
   "version": "3.8.3"
  }
 },
 "nbformat": 4,
 "nbformat_minor": 4
}
