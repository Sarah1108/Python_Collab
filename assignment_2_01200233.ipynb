{
 "cells": [
  {
   "cell_type": "markdown",
   "metadata": {},
   "source": [
    "## Second Assignment"
   ]
  },
  {
   "cell_type": "markdown",
   "metadata": {},
   "source": [
    "#### 1) Create a function called **\"even_squared\"** that receives an integer value **N**, and returns a list containing, in ascending order, the square of each of the even values, from 1 to N, including N if applicable. "
   ]
  },
  {
   "cell_type": "code",
   "execution_count": 3,
   "metadata": {},
   "outputs": [
    {
     "name": "stdout",
     "output_type": "stream",
     "text": [
      "4\n",
      "16\n"
     ]
    }
   ],
   "source": [
    "N = 5\n",
    "def even_squared(N):\n",
    "    num = 1\n",
    "    while num < N: \n",
    "        if num%2==0:\n",
    "            root = num**2\n",
    "            num = num + 2 \n",
    "            print(root)\n",
    "        else:\n",
    "            num = num +1 \n",
    "even_squared(5)\n",
    "\n",
    "    "
   ]
  },
  {
   "cell_type": "markdown",
   "metadata": {},
   "source": [
    "#### 2) Using a while loop and the **input()** function, read an indefinite amount of **integers** until the number read is **-1**. After this process, print two lists on the screen: The first containing the even integers, and the second containing the odd integers. Both must be in ascending order. "
   ]
  },
  {
   "cell_type": "code",
   "execution_count": 2,
   "metadata": {},
   "outputs": [
    {
     "name": "stdout",
     "output_type": "stream",
     "text": [
      "Enter a number: 4\n",
      "4\n",
      "Enter a number: 6\n",
      "6\n",
      "Enter a number: 8\n",
      "8\n",
      "Enter a number: 1\n",
      "1\n",
      "Enter a number: 3\n",
      "3\n",
      "Enter a number: 5\n",
      "5\n",
      "Enter a number: -1\n",
      "-1\n",
      "[4, 6, 8] [-1, 1, 3, 5]\n"
     ]
    }
   ],
   "source": [
    "even =[]\n",
    "odd =[]\n",
    "\n",
    "n = 0\n",
    "\n",
    "while n != -1:\n",
    "    n = int(input('Enter a number: '))\n",
    "    print(n)\n",
    "    \n",
    "    if n%2==0:\n",
    "        even.append(n)\n",
    "    elif n%2 != 0:\n",
    "        odd.append(n) \n",
    "else:\n",
    "    sorted_even= sorted(even)\n",
    "    sorted_odd= sorted(odd)\n",
    "    \n",
    "    print(sorted_even, sorted_odd)\n",
    "    "
   ]
  },
  {
   "cell_type": "markdown",
   "metadata": {},
   "source": [
    "#### 3) Create a function called **\"even_account\"** that receives a list of integers, counts the number of existing even elements, and returns this count. "
   ]
  },
  {
   "cell_type": "code",
   "execution_count": 3,
   "metadata": {},
   "outputs": [
    {
     "name": "stdout",
     "output_type": "stream",
     "text": [
      "4\n"
     ]
    }
   ],
   "source": [
    "list= [4,3,7,98,8,20, 57]\n",
    "def even_account(list):\n",
    "    counter = 0\n",
    "    for i in list:\n",
    "        if i%2==0:\n",
    "            counter+=1\n",
    "    print(counter)\n",
    "even_account(list)\n",
    "# I just gave it a list\n",
    "    "
   ]
  },
  {
   "cell_type": "markdown",
   "metadata": {},
   "source": [
    "#### 4) Create a function called **\"squared_list\"** that receives a list of integers and returns another list whose elements are the squares of the elements of the first. "
   ]
  },
  {
   "cell_type": "code",
   "execution_count": 4,
   "metadata": {},
   "outputs": [
    {
     "name": "stdout",
     "output_type": "stream",
     "text": [
      "[9, 16, 25, 36, 49, 64]\n"
     ]
    }
   ],
   "source": [
    "list= [3,4,5,6,7,8]\n",
    "square= []\n",
    "def squared_list(list):\n",
    "    for i in list:\n",
    "        a= i**2\n",
    "        square.append(a)\n",
    "    print(square)\n",
    "squared_list(list)\n",
    "        "
   ]
  },
  {
   "cell_type": "markdown",
   "metadata": {},
   "source": [
    "#### 5) Create a function called **\"descending\"** that receives two lists of integers and returns a single list, which contains all the elements in descending order, and may include repeated elements. "
   ]
  },
  {
   "cell_type": "code",
   "execution_count": 5,
   "metadata": {},
   "outputs": [
    {
     "name": "stdout",
     "output_type": "stream",
     "text": [
      "[52, 9, 9, 7, 6, 4, 4, 4, 4, 2, 2, 1]\n"
     ]
    }
   ],
   "source": [
    "l1= [1,4,7,2,9,4]\n",
    "l2=[4,9,4,2,6,52]\n",
    "###these lists again are just to try the function\n",
    "def descending(l1,l2):\n",
    "    listall= l1+l2\n",
    "    listall.sort(reverse=True)\n",
    "\n",
    "    print(listall)\n",
    "descending(l1,l2)\n",
    "\n",
    "    \n",
    "    "
   ]
  },
  {
   "cell_type": "markdown",
   "metadata": {},
   "source": [
    "#### 6) Create a function called **\"adding\"** that receives a list **A**, and an arbitrary number of integers as input. Return a new list containing the elements of **A** plus the integers passed as input, in the order in which they were given. Here is an example: \n",
    "\n",
    ">```python\n",
    ">>>> A = [10,20,30]\n",
    ">>>> adding(A, 4, 10, 50, 1)\n",
    "> [10, 20, 30, 4, 10, 50, 1]\n",
    "```"
   ]
  },
  {
   "cell_type": "code",
   "execution_count": null,
   "metadata": {},
   "outputs": [],
   "source": [
    "A = [10,20,30]\n",
    "def adding(A, n):\n",
    "    newA= A+ n\n",
    "    print(newA)\n",
    "adding(A, 2,4,6)"
   ]
  },
  {
   "cell_type": "markdown",
   "metadata": {},
   "source": [
    "#### 7) Create a function called **\"intersection\"** that receives two input lists and returns another list with the values that belong to the two lists simultaneously (intersection) without repetition of values and in ascending order. Use only lists (do not use sets); loops and conditionals. See the example: \n",
    "\n",
    ">```python\n",
    ">>>> A = [-2, 0, 1, 2, 3]\n",
    ">>>> B = [-1, 2, 3, 6, 8]\n",
    ">>>> intersection(A,B)\n",
    "> [2, 3]\n",
    "```"
   ]
  },
  {
   "cell_type": "code",
   "execution_count": 7,
   "metadata": {},
   "outputs": [
    {
     "name": "stdout",
     "output_type": "stream",
     "text": [
      "[2, 6, 7]\n"
     ]
    }
   ],
   "source": [
    "A = [4,6,7,2,-1,4]\n",
    "B = [5,2,-3,9,6,7]\n",
    "C= []\n",
    "def intersection(A,B):\n",
    "    for i in A: \n",
    "        if i in B: \n",
    "            C.append(i)\n",
    "            C.sort()\n",
    "    print(C)\n",
    "intersection(A,B)\n",
    "    "
   ]
  },
  {
   "cell_type": "markdown",
   "metadata": {},
   "source": [
    "#### 8) Create a function called **\"union\"** that receives two input lists and returns another list with the union of the elements of the two received, without repetition of elements and in ascending order. Use only lists (do not use sets); loops and conditionals. See the example: \n",
    "\n",
    ">```python\n",
    ">>>> A = [-2, 0, 1, 2]\n",
    ">>>> B = [-1, 1, 2, 10]\n",
    ">>>> union(A,B)\n",
    "> [-2, ,-1, 0, 1, 2, 10]\n",
    "```"
   ]
  },
  {
   "cell_type": "code",
   "execution_count": 10,
   "metadata": {},
   "outputs": [
    {
     "name": "stdout",
     "output_type": "stream",
     "text": [
      "[-3, 2, 4, 5, 7, 8]\n"
     ]
    }
   ],
   "source": [
    "A = [-3,2,4,5]\n",
    "B = [8,-3,5,7]\n",
    "C=[]\n",
    "def union(A,B):\n",
    "    for i in A:\n",
    "        if i not in B:\n",
    "            C.append(i)\n",
    "    Cnew = C+B\n",
    "    Cnew.sort()\n",
    "    print(Cnew)\n",
    "union(A,B)    "
   ]
  },
  {
   "cell_type": "markdown",
   "metadata": {},
   "source": [
    "#### 9) Generalize the **\"intersection\"** function so that it receives an indefinite number of lists and returns the intersection of all of them. Call the new function **intersection2**. "
   ]
  },
  {
   "cell_type": "code",
   "execution_count": 6,
   "metadata": {},
   "outputs": [
    {
     "name": "stdout",
     "output_type": "stream",
     "text": [
      "[]\n"
     ]
    }
   ],
   "source": [
    "def intersect(*lists):\n",
    "    if(len(lists) <=1):\n",
    "        return lists[0]\n",
    "    result = lists[0]\n",
    "    final =[]\n",
    "    for i in range(1, len(lists)):\n",
    "        #I'm not sure how to call lists? \n",
    "         if i in lists :\n",
    "            final.append(i)\n",
    "    print(final)\n",
    "intersect([1,2,3],[4,5,6],[3,4,5])"
   ]
  },
  {
   "cell_type": "markdown",
   "metadata": {},
   "source": [
    "## Challenge\n",
    "\n",
    "#### 10) Create a function named **\"matrix\"** that implements matrix multiplication:\n",
    "    \n",
    "Given the matrices:\n",
    "    \n",
    "$A_{m\\times n}=\n",
    "\\left[\\begin{matrix}\n",
    "a_{11}&a_{12}&...&a_{1n}\\\\\n",
    "a_{21}&a_{22}&...&a_{2n}\\\\\n",
    "\\vdots &\\vdots &&\\vdots\\\\\n",
    "a_{m1}&a_{m2}&...&a_{mn}\\\\\n",
    "\\end{matrix}\\right]$\n",
    "    \n",
    "We will represent then as a list of lists.\n",
    "\n",
    "$A = [[a_{11},a_{12},...,a_{1n}],[a_{21},a_{22},...,a_{2n}], . . . ,[a_{m1},a_{m2},...,a_{mn}]]$\n",
    "\n",
    "The **\"matrix\"** funtion must receive two matrices $A$ e $B$ in the specified format and return $A\\times B$"
   ]
  },
  {
   "cell_type": "code",
   "execution_count": null,
   "metadata": {},
   "outputs": [],
   "source": [
    "def matrix(A,B):\n",
    "    result = []\n",
    "    for i in range(len(A)): \n",
    "  \n",
    "        # iterating by coloum by B  \n",
    "        for j in range(len(B[0])): \n",
    "  \n",
    "        # iterating by rows of B \n",
    "            for k in range(len(B)): \n",
    "                result[i][j] += A[i][k] * B[k][j] \n",
    "  \n",
    "    for r in result: \n",
    "        print(r)\n",
    "matrix([[1,3,5],[6,7,8],[9,4,2]], [[2,3,4],[3,7,9],[8,3,1]])\n",
    "###does not work yet"
   ]
  }
 ],
 "metadata": {
  "kernelspec": {
   "display_name": "Python 3",
   "language": "python",
   "name": "python3"
  },
  "language_info": {
   "codemirror_mode": {
    "name": "ipython",
    "version": 3
   },
   "file_extension": ".py",
   "mimetype": "text/x-python",
   "name": "python",
   "nbconvert_exporter": "python",
   "pygments_lexer": "ipython3",
   "version": "3.8.3"
  }
 },
 "nbformat": 4,
 "nbformat_minor": 4
}
